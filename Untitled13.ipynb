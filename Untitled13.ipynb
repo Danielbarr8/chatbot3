{
  "cells": [
    {
      "cell_type": "markdown",
      "metadata": {
        "id": "view-in-github",
        "colab_type": "text"
      },
      "source": [
        "<a href=\"https://colab.research.google.com/github/Danielbarr8/chatbot3/blob/main/Untitled13.ipynb\" target=\"_parent\"><img src=\"https://colab.research.google.com/assets/colab-badge.svg\" alt=\"Open In Colab\"/></a>"
      ]
    },
    {
      "cell_type": "code",
      "execution_count": null,
      "metadata": {
        "colab": {
          "base_uri": "https://localhost:8080/"
        },
        "id": "ycgEeUaG5aB2",
        "outputId": "11e0dabb-7411-4dfc-c390-11ac8feec809"
      },
      "outputs": [
        {
          "name": "stdout",
          "output_type": "stream",
          "text": [
            "Looking in indexes: https://pypi.org/simple, https://us-python.pkg.dev/colab-wheels/public/simple/\n",
            "Requirement already satisfied: keras in /usr/local/lib/python3.9/dist-packages (2.11.0)\n"
          ]
        }
      ],
      "source": [
        "pip install keras "
      ]
    },
    {
      "cell_type": "code",
      "execution_count": null,
      "metadata": {
        "colab": {
          "base_uri": "https://localhost:8080/"
        },
        "id": "UabdgWpa7qeJ",
        "outputId": "2def59df-17aa-4539-880a-ee066aac9ddb"
      },
      "outputs": [
        {
          "name": "stdout",
          "output_type": "stream",
          "text": [
            "Downloading data from https://storage.googleapis.com/tensorflow/tf-keras-datasets/mnist.npz\n",
            "11490434/11490434 [==============================] - 0s 0us/step\n",
            "Epoch 1/50\n",
            "235/235 [==============================] - 7s 19ms/step - loss: 0.2483 - val_loss: 0.1678\n",
            "Epoch 2/50\n",
            "235/235 [==============================] - 5s 23ms/step - loss: 0.1514 - val_loss: 0.1381\n",
            "Epoch 3/50\n",
            "235/235 [==============================] - 4s 19ms/step - loss: 0.1320 - val_loss: 0.1251\n",
            "Epoch 4/50\n",
            "235/235 [==============================] - 5s 20ms/step - loss: 0.1237 - val_loss: 0.1189\n",
            "Epoch 5/50\n",
            "235/235 [==============================] - 5s 21ms/step - loss: 0.1175 - val_loss: 0.1127\n",
            "Epoch 6/50\n",
            "235/235 [==============================] - 4s 18ms/step - loss: 0.1124 - val_loss: 0.1090\n",
            "Epoch 7/50\n",
            "235/235 [==============================] - 5s 23ms/step - loss: 0.1088 - val_loss: 0.1059\n",
            "Epoch 8/50\n",
            "235/235 [==============================] - 4s 18ms/step - loss: 0.1062 - val_loss: 0.1037\n",
            "Epoch 9/50\n",
            "235/235 [==============================] - 4s 18ms/step - loss: 0.1043 - val_loss: 0.1024\n",
            "Epoch 10/50\n",
            "235/235 [==============================] - 5s 23ms/step - loss: 0.1026 - val_loss: 0.1005\n",
            "Epoch 11/50\n",
            "235/235 [==============================] - 4s 18ms/step - loss: 0.1011 - val_loss: 0.0994\n",
            "Epoch 12/50\n",
            "235/235 [==============================] - 4s 18ms/step - loss: 0.0996 - val_loss: 0.0979\n",
            "Epoch 13/50\n",
            "235/235 [==============================] - 5s 23ms/step - loss: 0.0982 - val_loss: 0.0964\n",
            "Epoch 14/50\n",
            "235/235 [==============================] - 4s 18ms/step - loss: 0.0971 - val_loss: 0.0957\n",
            "Epoch 15/50\n",
            "235/235 [==============================] - 4s 18ms/step - loss: 0.0961 - val_loss: 0.0945\n",
            "Epoch 16/50\n",
            "235/235 [==============================] - 6s 24ms/step - loss: 0.0951 - val_loss: 0.0939\n",
            "Epoch 17/50\n",
            "235/235 [==============================] - 4s 18ms/step - loss: 0.0944 - val_loss: 0.0929\n",
            "Epoch 18/50\n",
            "235/235 [==============================] - 5s 19ms/step - loss: 0.0936 - val_loss: 0.0925\n",
            "Epoch 19/50\n",
            "235/235 [==============================] - 5s 21ms/step - loss: 0.0929 - val_loss: 0.0917\n",
            "Epoch 20/50\n",
            "235/235 [==============================] - 4s 18ms/step - loss: 0.0923 - val_loss: 0.0911\n",
            "Epoch 21/50\n",
            "235/235 [==============================] - 5s 22ms/step - loss: 0.0918 - val_loss: 0.0907\n",
            "Epoch 22/50\n",
            "235/235 [==============================] - 4s 19ms/step - loss: 0.0913 - val_loss: 0.0906\n",
            "Epoch 23/50\n",
            "235/235 [==============================] - 4s 18ms/step - loss: 0.0909 - val_loss: 0.0897\n",
            "Epoch 24/50\n",
            "235/235 [==============================] - 5s 23ms/step - loss: 0.0905 - val_loss: 0.0893\n",
            "Epoch 25/50\n",
            "235/235 [==============================] - 4s 18ms/step - loss: 0.0901 - val_loss: 0.0893\n",
            "Epoch 26/50\n",
            "235/235 [==============================] - 4s 18ms/step - loss: 0.0897 - val_loss: 0.0887\n",
            "Epoch 27/50\n",
            "235/235 [==============================] - 5s 23ms/step - loss: 0.0893 - val_loss: 0.0885\n",
            "Epoch 28/50\n",
            "235/235 [==============================] - 4s 18ms/step - loss: 0.0889 - val_loss: 0.0883\n",
            "Epoch 29/50\n",
            "235/235 [==============================] - 4s 18ms/step - loss: 0.0886 - val_loss: 0.0878\n",
            "Epoch 30/50\n",
            "235/235 [==============================] - 5s 22ms/step - loss: 0.0883 - val_loss: 0.0879\n",
            "Epoch 31/50\n",
            "235/235 [==============================] - 4s 17ms/step - loss: 0.0881 - val_loss: 0.0872\n",
            "Epoch 32/50\n",
            "235/235 [==============================] - 4s 17ms/step - loss: 0.0879 - val_loss: 0.0869\n",
            "Epoch 33/50\n",
            "235/235 [==============================] - 5s 23ms/step - loss: 0.0876 - val_loss: 0.0873\n",
            "Epoch 34/50\n",
            "235/235 [==============================] - 4s 17ms/step - loss: 0.0874 - val_loss: 0.0866\n",
            "Epoch 35/50\n",
            "235/235 [==============================] - 4s 18ms/step - loss: 0.0872 - val_loss: 0.0864\n",
            "Epoch 36/50\n",
            "235/235 [==============================] - 5s 22ms/step - loss: 0.0870 - val_loss: 0.0861\n",
            "Epoch 37/50\n",
            "235/235 [==============================] - 4s 18ms/step - loss: 0.0868 - val_loss: 0.0862\n",
            "Epoch 38/50\n",
            "235/235 [==============================] - 5s 19ms/step - loss: 0.0866 - val_loss: 0.0860\n",
            "Epoch 39/50\n",
            "235/235 [==============================] - 5s 20ms/step - loss: 0.0865 - val_loss: 0.0859\n",
            "Epoch 40/50\n",
            "235/235 [==============================] - 4s 18ms/step - loss: 0.0863 - val_loss: 0.0858\n",
            "Epoch 41/50\n",
            "235/235 [==============================] - 5s 21ms/step - loss: 0.0861 - val_loss: 0.0854\n",
            "Epoch 42/50\n",
            "235/235 [==============================] - 4s 19ms/step - loss: 0.0860 - val_loss: 0.0853\n",
            "Epoch 43/50\n",
            "235/235 [==============================] - 4s 18ms/step - loss: 0.0858 - val_loss: 0.0851\n",
            "Epoch 44/50\n",
            "235/235 [==============================] - 5s 22ms/step - loss: 0.0857 - val_loss: 0.0850\n",
            "Epoch 45/50\n",
            "235/235 [==============================] - 4s 18ms/step - loss: 0.0856 - val_loss: 0.0851\n",
            "Epoch 46/50\n",
            "235/235 [==============================] - 4s 17ms/step - loss: 0.0854 - val_loss: 0.0849\n",
            "Epoch 47/50\n",
            "235/235 [==============================] - 5s 22ms/step - loss: 0.0853 - val_loss: 0.0847\n",
            "Epoch 48/50\n",
            "235/235 [==============================] - 4s 17ms/step - loss: 0.0852 - val_loss: 0.0846\n",
            "Epoch 49/50\n",
            "235/235 [==============================] - 4s 17ms/step - loss: 0.0850 - val_loss: 0.0847\n",
            "Epoch 50/50\n",
            "235/235 [==============================] - 5s 23ms/step - loss: 0.0850 - val_loss: 0.0842\n"
          ]
        },
        {
          "data": {
            "text/plain": [
              "<keras.callbacks.History at 0x7f25010e1790>"
            ]
          },
          "execution_count": 5,
          "metadata": {},
          "output_type": "execute_result"
        }
      ],
      "source": [
        "from keras.layers import Input, Dense\n",
        "from keras.models import Model\n",
        "\n",
        "# Define the input layer\n",
        "input_layer = Input(shape=(784,))\n",
        "\n",
        "# Define the encoder\n",
        "encoder = Dense(128, activation='relu')(input_layer)\n",
        "encoder = Dense(64, activation='relu')(encoder)\n",
        "encoder = Dense(32, activation='relu')(encoder)\n",
        "\n",
        "# Define the decoder\n",
        "decoder = Dense(64, activation='relu')(encoder)\n",
        "decoder = Dense(128, activation='relu')(decoder)\n",
        "decoder = Dense(784, activation='sigmoid')(decoder)\n",
        "\n",
        "# Define the autoencoder\n",
        "autoencoder = Model(inputs=input_layer, outputs=decoder)\n",
        "\n",
        "# Compile the autoencoder\n",
        "autoencoder.compile(optimizer='adam', loss='binary_crossentropy')\n",
        "\n",
        "# Load the MNIST dataset\n",
        "from keras.datasets import mnist\n",
        "(x_train, _), (x_test, _) = mnist.load_data()\n",
        "\n",
        "# Normalize the pixel values between 0 and 1\n",
        "x_train = x_train.astype('float32') / 255.\n",
        "x_test = x_test.astype('float32') / 255.\n",
        "\n",
        "# Flatten the images\n",
        "x_train = x_train.reshape((len(x_train), 784))\n",
        "x_test = x_test.reshape((len(x_test), 784))\n",
        "\n",
        "# Train the autoencoder\n",
        "autoencoder.fit(x_train, x_train, epochs=50, batch_size=256, shuffle=True, validation_data=(x_test, x_test))"
      ]
    },
    {
      "cell_type": "code",
      "execution_count": null,
      "metadata": {
        "id": "iZ7JlCxkhXA1"
      },
      "outputs": [],
      "source": [
        "import random"
      ]
    },
    {
      "cell_type": "code",
      "execution_count": null,
      "metadata": {
        "colab": {
          "background_save": true,
          "base_uri": "https://localhost:8080/"
        },
        "id": "bU4zofNVhXGo",
        "outputId": "2d067405-b231-422f-eb8b-225f8c582457"
      },
      "outputs": [
        {
          "name": "stdout",
          "output_type": "stream",
          "text": [
            "Welcome to Chatbot!\n"
          ]
        }
      ],
      "source": [
        "import random\n",
        "\n",
        "# define a dictionary of responses\n",
        "responses = {\n",
        "    \"hello\": [\"Hi there!\", \"Hello!\", \"Greetings!\"],\n",
        "    \"how are you\": [\"I'm doing well, thanks for asking.\", \"I'm good, how about you?\"],\n",
        "    \"what's your name\": [\"My name is Chatbot.\", \"You can call me Chatbot.\"],\n",
        "    \"bye\": [\"Goodbye!\", \"See you later!\", \"Take care!\"]\n",
        "}\n",
        "\n",
        "# define a function to get a response from the dictionary\n",
        "def get_response(input_text):\n",
        "    # loop through the responses dictionary to find a matching key\n",
        "    for key in responses:\n",
        "        if input_text.lower() in key:\n",
        "            # return a random response from the list of responses\n",
        "            return random.choice(responses[key])\n",
        "    # if no matching key is found, return a default response\n",
        "    return \"I'm sorry, I don't understand.\"\n",
        "\n",
        "# define a main function to run the chatbot\n",
        "def main():\n",
        "    print(\"Welcome to Chatbot!\")\n",
        "    while True:\n",
        "        input_text = input(\"You: \")\n",
        "        response = get_response(input_text)\n",
        "        print(\"Chatbot: \" + response)\n",
        "\n",
        "# run the main function\n",
        "if __name__ == '__main__':\n",
        "    main()"
      ]
    }
  ],
  "metadata": {
    "colab": {
      "provenance": [],
      "authorship_tag": "ABX9TyPVzZEMwi15958iwtEytv4o",
      "include_colab_link": true
    },
    "kernelspec": {
      "display_name": "Python 3",
      "name": "python3"
    },
    "language_info": {
      "name": "python"
    }
  },
  "nbformat": 4,
  "nbformat_minor": 0
}